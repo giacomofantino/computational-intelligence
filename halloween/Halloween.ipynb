{
 "cells": [
  {
   "cell_type": "markdown",
   "id": "185f9931-b384-4fdc-a5b2-eea785428bb8",
   "metadata": {},
   "source": [
    "Halloween Challenge\n",
    "\n",
    "This code was written in collaboration with Giacomo Cauda (https://github.com/jackcauda00/computational-intelligence)"
   ]
  },
  {
   "cell_type": "code",
   "execution_count": 2,
   "id": "3ffe7245-e849-41d0-9698-5f0e0b83fee9",
   "metadata": {},
   "outputs": [],
   "source": [
    "from itertools import product\n",
    "from random import random, randint, seed\n",
    "import numpy as np\n",
    "from scipy import sparse\n",
    "from functools import reduce\n",
    "from copy import copy\n"
   ]
  },
  {
   "cell_type": "code",
   "execution_count": 3,
   "id": "6f03bd67-78a0-4d72-95b7-77a918727b91",
   "metadata": {},
   "outputs": [],
   "source": [
    "def make_set_covering_problem(num_points, num_sets, density):\n",
    "    \"\"\"Returns a sparse array where rows are sets and columns are the covered items\"\"\"\n",
    "    seed(num_points*2654435761+num_sets+density)\n",
    "    sets = sparse.lil_array((num_sets, num_points), dtype=bool)\n",
    "    for s, p in product(range(num_sets), range(num_points)):\n",
    "        if random() < density:\n",
    "            sets[s, p] = True\n",
    "    for p in range(num_points):\n",
    "        sets[randint(0, num_sets-1), p] = True\n",
    "    return sets"
   ]
  },
  {
   "cell_type": "markdown",
   "id": "82b0be37-21d9-492d-9a1d-cf0cdf0ddd76",
   "metadata": {},
   "source": [
    "# Halloween Challenge\n",
    "\n",
    "Find the best solution with the fewest calls to the fitness functions for:\n",
    "\n",
    "* `num_points = [100, 1_000, 5_000]`\n",
    "* `num_sets = num_points`\n",
    "* `density = [.3, .7]` "
   ]
  },
  {
   "cell_type": "code",
   "execution_count": null,
   "id": "221ffdba-5d3d-48cc-bd08-45ccc9366ea6",
   "metadata": {},
   "outputs": [],
   "source": [
    "NUM_SET = 5000\n",
    "NUM_POINTS = NUM_SET\n",
    "DENSITY = .7\n",
    "count = 0\n",
    "\n",
    "def fitness(state):\n",
    "    #count the call to the fitness function\n",
    "    global count\n",
    "    count = count + 1\n",
    "\n",
    "    cost = sum(state)\n",
    "    valid = np.sum(\n",
    "        reduce(\n",
    "            np.logical_or,\n",
    "            [[x[i, j] for j in range(NUM_POINTS)] for i, t in enumerate(state) if t],\n",
    "            np.array([False for _ in range(NUM_POINTS)]),\n",
    "        )\n",
    "    )\n",
    "    return valid, -cost\n",
    "\n",
    "def tweak(state):\n",
    "    new_state = copy(state)\n",
    "    index = randint(0, NUM_POINTS - 1)\n",
    "    new_state[index] = not new_state[index]\n",
    "    return new_state\n",
    "\n",
    "x = make_set_covering_problem(NUM_SET, NUM_POINTS, DENSITY)\n",
    "\n",
    "current_state = [False for _ in range(NUM_SET)]\n",
    "\n",
    "for step in range(1_000):\n",
    "    new_state = tweak(current_state)\n",
    "    if fitness(new_state) >= fitness(current_state):\n",
    "        current_state = new_state\n",
    "\n",
    "print(count)\n",
    "print(fitness(current_state))\n",
    "\n",
    "tabu_list = []\n",
    "count = 0\n",
    "current_state = [False for _ in range(NUM_SET)]\n",
    "\n",
    "for step in range(1_000):\n",
    "    new_state = tweak(current_state)\n",
    "    \n",
    "    if not new_state in tabu_list: #tabu_list NON contiene new_state\n",
    "        if fitness(new_state) >= fitness(current_state):\n",
    "            tabu_list.append(current_state)\n",
    "            current_state = new_state\n",
    "        else:\n",
    "            tabu_list.append(new_state)\n",
    "\n",
    "print(count)\n",
    "print(fitness(current_state))"
   ]
  },
  {
   "cell_type": "markdown",
   "id": "f760d14e",
   "metadata": {},
   "source": [
    "We have done a comparison using the same data with our implementation and the hill climbing (HC):\n",
    "\n",
    "| Parameters | Calls | Gained (comp. to HC) | Result (comp. to HC) |\n",
    "|------------|-------|----------------------|----------------------|\n",
    "|  100, .3   | 328   |          1672        |      Better          |\n",
    "|  100, .7   | 386   |          1614        |       Same           |\n",
    "|  1000, .3  | 1724  |          276         |       Same           |\n",
    "|  1000, .7  | 1540  |          460         |      Better          |\n",
    "|  5000, .3  | 1892  |          108         |      Better          |\n",
    "|  5000, .7  | 1888  |          112         |       Same           |"
   ]
  }
 ],
 "metadata": {
  "kernelspec": {
   "display_name": "Python 3 (ipykernel)",
   "language": "python",
   "name": "python3"
  },
  "language_info": {
   "codemirror_mode": {
    "name": "ipython",
    "version": 3
   },
   "file_extension": ".py",
   "mimetype": "text/x-python",
   "name": "python",
   "nbconvert_exporter": "python",
   "pygments_lexer": "ipython3",
   "version": "3.12.0"
  }
 },
 "nbformat": 4,
 "nbformat_minor": 5
}
