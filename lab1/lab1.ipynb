{
 "cells": [
  {
   "cell_type": "markdown",
   "metadata": {},
   "source": [
    "First lab Computational intelligence: Set covering"
   ]
  },
  {
   "cell_type": "code",
   "execution_count": 1,
   "metadata": {},
   "outputs": [],
   "source": [
    "import numpy as np\n",
    "from random import random\n",
    "from functools import reduce\n",
    "from queue import PriorityQueue"
   ]
  },
  {
   "cell_type": "code",
   "execution_count": 4,
   "metadata": {},
   "outputs": [],
   "source": [
    "#costants for the complexity of the problem\n",
    "PROBLEM_SIZE = 5\n",
    "NUM_SETS = 10 #SETS == TILES to choose from\n",
    "SETS = tuple(np.array([random() < .2 for _ in range(PROBLEM_SIZE)]) for _ in range(NUM_SETS))\n",
    "#the set of all sets/tiles we can choose from"
   ]
  },
  {
   "cell_type": "code",
   "execution_count": 70,
   "metadata": {},
   "outputs": [],
   "source": [
    "#to check if we finished\n",
    "def goal_check(state):\n",
    "    #whate happens in case of no index? Add initial value\n",
    "    return np.all(reduce(np.logical_or, [SETS[i] for i in state[0]], np.array([False for _ in range(PROBLEM_SIZE)])))\n",
    "\n",
    "\n",
    "assert goal_check((set(range(NUM_SETS)), set())), \"Problem not solvable\" #sanity check => if i select all sets i must have a solution\n",
    "#otherwise the problem is not solvable\n"
   ]
  },
  {
   "cell_type": "code",
   "execution_count": 71,
   "metadata": {},
   "outputs": [],
   "source": [
    "#the quality of a solution depends on the number of selected tiles\n",
    "#so for each state we compute the cost as the number of selected tiles\n",
    "def Cost(state):\n",
    "    return len(state[0])\n",
    "\n",
    "\n",
    "#distance as the number of false element in the set we want to cover\n",
    "#[True, true false] == 1 and [false, false, false] == 3 and [true, true, true] == 0\n",
    "def Distance(state):\n",
    "    return PROBLEM_SIZE - sum(\n",
    "        reduce(np.logical_or, [SETS[i] for i in state[0]], \n",
    "               np.array([False for _ in range(PROBLEM_SIZE)])))\n",
    "    "
   ]
  },
  {
   "cell_type": "code",
   "execution_count": 76,
   "metadata": {},
   "outputs": [
    {
     "name": "stdout",
     "output_type": "stream",
     "text": [
      "1: selected state: (set(), {0, 1, 2, 3, 4, 5, 6, 7, 8, 9, 10, 11, 12, 13, 14, 15, 16, 17, 18, 19, 20, 21, 22, 23, 24, 25, 26, 27, 28, 29, 30, 31, 32, 33, 34, 35, 36, 37, 38, 39, 40, 41, 42, 43, 44, 45, 46, 47, 48, 49}) with cost 0 and distance 41280000\n",
      "2: selected state: ({6}, {0, 1, 2, 3, 4, 5, 7, 8, 9, 10, 11, 12, 13, 14, 15, 16, 17, 18, 19, 20, 21, 22, 23, 24, 25, 26, 27, 28, 29, 30, 31, 32, 33, 34, 35, 36, 37, 38, 39, 40, 41, 42, 43, 44, 45, 46, 47, 48, 49}) with cost 1 and distance 24051712\n",
      "3: selected state: ({37, 6}, {0, 1, 2, 3, 4, 5, 7, 8, 9, 10, 11, 12, 13, 14, 15, 16, 17, 18, 19, 20, 21, 22, 23, 24, 25, 26, 27, 28, 29, 30, 31, 32, 33, 34, 35, 36, 38, 39, 40, 41, 42, 43, 44, 45, 46, 47, 48, 49}) with cost 2 and distance 14168064\n",
      "4: selected state: ({11, 37, 6}, {0, 1, 2, 3, 4, 5, 7, 8, 9, 10, 12, 13, 14, 15, 16, 17, 18, 19, 20, 21, 22, 23, 24, 25, 26, 27, 28, 29, 30, 31, 32, 33, 34, 35, 36, 38, 39, 40, 41, 42, 43, 44, 45, 46, 47, 48, 49}) with cost 3 and distance 8146944\n",
      "5: selected state: ({11, 37, 6, 47}, {0, 1, 2, 3, 4, 5, 7, 8, 9, 10, 12, 13, 14, 15, 16, 17, 18, 19, 20, 21, 22, 23, 24, 25, 26, 27, 28, 29, 30, 31, 32, 33, 34, 35, 36, 38, 39, 40, 41, 42, 43, 44, 45, 46, 48, 49}) with cost 4 and distance 4767744\n",
      "6: selected state: ({19, 37, 6, 11, 47}, {0, 1, 2, 3, 4, 5, 7, 8, 9, 10, 12, 13, 14, 15, 16, 17, 18, 20, 21, 22, 23, 24, 25, 26, 27, 28, 29, 30, 31, 32, 33, 34, 35, 36, 38, 39, 40, 41, 42, 43, 44, 45, 46, 48, 49}) with cost 5 and distance 2727936\n",
      "7: selected state: ({19, 37, 6, 25, 11, 47}, {0, 1, 2, 3, 4, 5, 7, 8, 9, 10, 12, 13, 14, 15, 16, 17, 18, 20, 21, 22, 23, 24, 26, 27, 28, 29, 30, 31, 32, 33, 34, 35, 36, 38, 39, 40, 41, 42, 43, 44, 45, 46, 48, 49}) with cost 6 and distance 1499136\n",
      "8: selected state: ({19, 37, 6, 25, 11, 14, 47}, {0, 1, 2, 3, 4, 5, 7, 8, 9, 10, 12, 13, 15, 16, 17, 18, 20, 21, 22, 23, 24, 26, 27, 28, 29, 30, 31, 32, 33, 34, 35, 36, 38, 39, 40, 41, 42, 43, 44, 45, 46, 48, 49}) with cost 7 and distance 831488\n",
      "9: selected state: ({19, 37, 6, 5, 25, 11, 14, 47}, {0, 1, 2, 3, 4, 7, 8, 9, 10, 12, 13, 15, 16, 17, 18, 20, 21, 22, 23, 24, 26, 27, 28, 29, 30, 31, 32, 33, 34, 35, 36, 38, 39, 40, 41, 42, 43, 44, 45, 46, 48, 49}) with cost 8 and distance 462848\n",
      "10: selected state: ({37, 6, 5, 11, 12, 14, 47, 19, 25}, {0, 1, 2, 3, 4, 7, 8, 9, 10, 13, 15, 16, 17, 18, 20, 21, 22, 23, 24, 26, 27, 28, 29, 30, 31, 32, 33, 34, 35, 36, 38, 39, 40, 41, 42, 43, 44, 45, 46, 48, 49}) with cost 9 and distance 245760\n",
      "11: selected state: ({37, 6, 5, 11, 12, 13, 14, 47, 19, 25}, {0, 1, 2, 3, 4, 7, 8, 9, 10, 15, 16, 17, 18, 20, 21, 22, 23, 24, 26, 27, 28, 29, 30, 31, 32, 33, 34, 35, 36, 38, 39, 40, 41, 42, 43, 44, 45, 46, 48, 49}) with cost 10 and distance 118784\n",
      "12: selected state: ({37, 6, 5, 11, 12, 13, 14, 47, 18, 19, 25}, {0, 1, 2, 3, 4, 7, 8, 9, 10, 15, 16, 17, 20, 21, 22, 23, 24, 26, 27, 28, 29, 30, 31, 32, 33, 34, 35, 36, 38, 39, 40, 41, 42, 43, 44, 45, 46, 48, 49}) with cost 11 and distance 53248\n",
      "13: selected state: ({34, 37, 6, 5, 11, 12, 13, 14, 47, 18, 19, 25}, {0, 1, 2, 3, 4, 7, 8, 9, 10, 15, 16, 17, 20, 21, 22, 23, 24, 26, 27, 28, 29, 30, 31, 32, 33, 35, 36, 38, 39, 40, 41, 42, 43, 44, 45, 46, 48, 49}) with cost 12 and distance 20480\n",
      "14: selected state: ({0, 34, 37, 6, 5, 11, 12, 13, 14, 47, 18, 19, 25}, {1, 2, 3, 4, 7, 8, 9, 10, 15, 16, 17, 20, 21, 22, 23, 24, 26, 27, 28, 29, 30, 31, 32, 33, 35, 36, 38, 39, 40, 41, 42, 43, 44, 45, 46, 48, 49}) with cost 13 and distance 4096\n",
      "Solve in 15 step by taking sets {0, 34, 37, 6, 5, 7, 11, 12, 13, 14, 47, 18, 19, 25} with cost 14\n"
     ]
    }
   ],
   "source": [
    "#Path search implementation\n",
    "frontier = PriorityQueue()\n",
    "initial_state = (set(), set(range(NUM_SETS))) #initial state => no selected sets, all available index\n",
    "\n",
    "#for starting we add in the frontier the initial state\n",
    "frontier.put((0, initial_state))\n",
    "\n",
    "(_, state) = frontier.get()\n",
    "\n",
    "counter = 0\n",
    "while not goal_check(state):\n",
    "    counter += 1\n",
    "    print(f\"{counter}: selected state: {state} with cost {Cost(state)} and distance {Distance(state)}\")\n",
    "\n",
    "    for action in state[1]: #compute all the successors and add them to the queue\n",
    "        new_state = (state[0] | {action}, state[1] - {action})\n",
    "        #for the distance we consider both cost and the heuristic\n",
    "        frontier.put((Cost(new_state) + Distance(new_state), new_state))\n",
    "    \n",
    "    (_, state) = frontier.get() #new state\n",
    "\n",
    "print(f\"Solve in {counter+1} step by taking sets {state[0]} with cost {Cost(state)}\")"
   ]
  },
  {
   "cell_type": "code",
   "execution_count": 75,
   "metadata": {},
   "outputs": [],
   "source": [
    "#We could change the above definition of Distance such that\n",
    "#given a state the cost consider both\n",
    "#1) the number of uncovered elements\n",
    "#2) the highest sets/tiles\n",
    "#to do so we compute the distance as NUM_FALSE * NUM_TRUE_SET\n",
    "# Where NUM_FALSE is the number of false that we need to cover(like before)\n",
    "# NUM_TRUE_SET is the biggest number of true in a tile\n",
    "# since we want to minimize the number of used tiles we will select the biggest one\n",
    "def Distance(state):\n",
    "    NUM_FALSE = (PROBLEM_SIZE - sum(\n",
    "        reduce(np.logical_or, [SETS[i] for i in state[0]], \n",
    "               np.array([False for _ in range(PROBLEM_SIZE)])))) \n",
    "    NUM_TRUE_SET =  max([np.sum(SETS[i]) for i in state[1]])\n",
    "\n",
    "    return NUM_FALSE * NUM_TRUE_SET"
   ]
  },
  {
   "cell_type": "code",
   "execution_count": 69,
   "metadata": {},
   "outputs": [],
   "source": [
    "#by using a bigger size and increasing the probability so we have higher tiles\n",
    "#we can compare the two\n",
    "PROBLEM_SIZE = 10000\n",
    "NUM_SETS = 50\n",
    "SETS = tuple(np.array([random() < .4 for _ in range(PROBLEM_SIZE)]) for _ in range(NUM_SETS))\n",
    "\n",
    "#to compare: run one of the two cell containing Distance (the previous declaration will be deleted)\n",
    "#then by running this cell you can create new tiles.\n",
    "#then you can run the A* algorithm and compare the results"
   ]
  },
  {
   "cell_type": "markdown",
   "metadata": {},
   "source": [
    "Here some results by changin the problability of an element of the set to be true:\n",
    " - With probability 0.4\n",
    "    - old H: solved in 18 steps with 14 tiles.\n",
    "    - new H: solved in 15 steps with 14 tiles.\n",
    " - With probability 0.3\n",
    "    - old H: solved in 27 steps with 19 tiles.\n",
    "    - new H: solved in 25 steps with 19 tiles.\n",
    " - With probability 0.25\n",
    "    - old H: solved in 20 steps with 24 tiles.\n",
    "    - new H: solved in 20 steps with 24 tiles.\n",
    " - With probability 0.2\n",
    "    - old H: solved in 30 steps with 29 tiles.\n",
    "    - new H: solved in 31 steps with 30 tiles.\n",
    "\n",
    "summing up: where there are higher probabilities the new heuristic is working as expected, speeding up the search.\n",
    "With lower probabilities the results are similar or worse compared to the previous one."
   ]
  }
 ],
 "metadata": {
  "kernelspec": {
   "display_name": "venv",
   "language": "python",
   "name": "python3"
  },
  "language_info": {
   "codemirror_mode": {
    "name": "ipython",
    "version": 3
   },
   "file_extension": ".py",
   "mimetype": "text/x-python",
   "name": "python",
   "nbconvert_exporter": "python",
   "pygments_lexer": "ipython3",
   "version": "3.12.0"
  }
 },
 "nbformat": 4,
 "nbformat_minor": 2
}
