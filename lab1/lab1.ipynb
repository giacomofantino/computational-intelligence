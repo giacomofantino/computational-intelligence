{
 "cells": [
  {
   "cell_type": "markdown",
   "metadata": {},
   "source": [
    "First lab Computational intelligence: Set covering\n",
    "\n",
    "This code was written in collaboration with Lorenzo Bonannella (https://github.com/lorenzobn/computational_intelligence)"
   ]
  },
  {
   "cell_type": "code",
   "execution_count": 1,
   "metadata": {},
   "outputs": [],
   "source": [
    "import numpy as np\n",
    "from random import random\n",
    "from functools import reduce\n",
    "from queue import PriorityQueue"
   ]
  },
  {
   "cell_type": "code",
   "execution_count": 2,
   "metadata": {},
   "outputs": [],
   "source": [
    "#costants for the complexity of the problem\n",
    "PROBLEM_SIZE = 5\n",
    "NUM_SETS = 10 #SETS == TILES to choose from\n",
    "SETS = tuple(np.array([random() < .2 for _ in range(PROBLEM_SIZE)]) for _ in range(NUM_SETS))\n",
    "#the set of all sets/tiles we can choose from"
   ]
  },
  {
   "cell_type": "code",
   "execution_count": 46,
   "metadata": {},
   "outputs": [],
   "source": [
    "#to check if we finished\n",
    "def goal_check(state):\n",
    "    #whate happens in case of no index? Add initial value\n",
    "    return np.all(reduce(np.logical_or, [SETS[i] for i in state[0]], np.array([False for _ in range(PROBLEM_SIZE)])))\n",
    "\n",
    "\n",
    "assert goal_check((set(range(NUM_SETS)), set())), \"Problem not solvable\" #sanity check => if i select all sets i must have a solution\n",
    "#otherwise the problem is not solvable\n"
   ]
  },
  {
   "cell_type": "code",
   "execution_count": 47,
   "metadata": {},
   "outputs": [],
   "source": [
    "#the quality of a solution depends on the number of selected tiles\n",
    "#so for each state we compute the cost as the number of selected tiles\n",
    "def Cost(state):\n",
    "    return len(state[0])\n",
    "\n",
    "\n",
    "#here the distance code seen at lesson\n",
    "def Distance(state):\n",
    "    already_covered = reduce(\n",
    "        np.logical_or,\n",
    "        [SETS[i] for i in state[0]],\n",
    "        np.array([False for _ in range(PROBLEM_SIZE)]),\n",
    "    )\n",
    "    if np.all(already_covered):\n",
    "        return 0\n",
    "    \n",
    "    missing_size = PROBLEM_SIZE - sum(already_covered)\n",
    "    candidates = sorted((sum(np.logical_and(s, np.logical_not(already_covered))) for s in SETS), reverse=True)\n",
    "    taken = 1\n",
    "    while sum(candidates[:taken]) < missing_size:\n",
    "        taken += 1\n",
    "    return taken"
   ]
  },
  {
   "cell_type": "code",
   "execution_count": null,
   "metadata": {},
   "outputs": [],
   "source": [
    "#Path search implementation\n",
    "frontier = PriorityQueue()\n",
    "initial_state = (set(), set(range(NUM_SETS))) #initial state => no selected sets, all available index\n",
    "\n",
    "#for starting we add in the frontier the initial state\n",
    "frontier.put((0, initial_state))\n",
    "\n",
    "(_, state) = frontier.get()\n",
    "\n",
    "counter = 0\n",
    "while not goal_check(state):\n",
    "    counter += 1\n",
    "    print(f\"{counter}: selected state: {state} with cost {Cost(state)} and distance {Distance(state)}\")\n",
    "\n",
    "    for action in state[1]: #compute all the successors and add them to the queue\n",
    "        new_state = (state[0] | {action}, state[1] - {action})\n",
    "        #for the distance we consider both cost and the heuristic\n",
    "        frontier.put((Cost(new_state) + Distance(new_state), new_state))\n",
    "    \n",
    "    (_, state) = frontier.get() #new state\n",
    "\n",
    "print(f\"Solve in {counter+1} step by taking sets {state[0]} with cost {Cost(state)}\")"
   ]
  },
  {
   "cell_type": "code",
   "execution_count": 49,
   "metadata": {},
   "outputs": [],
   "source": [
    "#the heuristic proposed by the professor consider the \n",
    "#part that we still need to cover and tries to compute the \n",
    "#number of sets we will need to cover it all (not considering useless sets)\n",
    "\n",
    "# Me and Lorenzo tried to use a different approach based on:\n",
    "# Trying to cover the biggest number of sets while using the least number of tiles\n",
    "# Since A* tries to minimize f = cost + distance our maximization had to become a minimization problem\n",
    "# So the heuristic is the number of already covered points negated\n",
    "# This is obviously admissible, since the heuristic is negative it's always less than the cost\n",
    "def Distance(state):\n",
    "    #compute already covered area\n",
    "    already_covered = reduce(\n",
    "        np.logical_or,\n",
    "        [SETS[i] for i in state[0]],\n",
    "        np.array([False for _ in range(PROBLEM_SIZE)]),\n",
    "    )\n",
    "\n",
    "    return -sum(already_covered)"
   ]
  },
  {
   "cell_type": "code",
   "execution_count": 45,
   "metadata": {},
   "outputs": [],
   "source": [
    "#we can compare the two with a bigger problem\n",
    "PROBLEM_SIZE = 25\n",
    "NUM_SETS = 30\n",
    "SETS = tuple(np.array([random() < .2 for _ in range(PROBLEM_SIZE)]) for _ in range(NUM_SETS))\n",
    "\n",
    "#to compare: run one of the two cell containing Distance (the previous declaration will be deleted)\n",
    "#then by running this cell you can create new tiles.\n",
    "#then you can run the A* algorithm and compare the results"
   ]
  },
  {
   "cell_type": "markdown",
   "metadata": {},
   "source": [
    "Here some results comparing our heuristic (H) and the professor's (PH):\n",
    " - First run:\n",
    "    - H: solved in 5 steps with cost 4\n",
    "    - PH: solved in 47 steps with cost 4\n",
    "\n",
    " - Second run:\n",
    "    - H: solved in 7 steps with cost 5\n",
    "    - PH: solved in 567 steps with cost 5\n",
    "    \n",
    " - Third run (here we increased a lot the PROBLEM_SIZE):\n",
    "    - H: solved in 8 steps with cost 6\n",
    "    - PH: solved in 2509 steps with cost 6"
   ]
  }
 ],
 "metadata": {
  "kernelspec": {
   "display_name": "venv",
   "language": "python",
   "name": "python3"
  },
  "language_info": {
   "codemirror_mode": {
    "name": "ipython",
    "version": 3
   },
   "file_extension": ".py",
   "mimetype": "text/x-python",
   "name": "python",
   "nbconvert_exporter": "python",
   "pygments_lexer": "ipython3",
   "version": "3.12.0"
  }
 },
 "nbformat": 4,
 "nbformat_minor": 2
}
